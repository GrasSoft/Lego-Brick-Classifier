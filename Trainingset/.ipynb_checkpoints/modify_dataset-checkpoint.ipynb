{
 "cells": [
  {
   "cell_type": "code",
   "execution_count": null,
   "id": "3cef4d72-4532-49f7-a357-020a11dbbad8",
   "metadata": {},
   "outputs": [],
   "source": [
    "import os\n",
    "import random\n",
    "from PIL import Image, ImageDraw, ImageEnhance"
   ]
  },
  {
   "cell_type": "markdown",
   "id": "218e6595-0b43-48c5-a2e5-842eb674b8c8",
   "metadata": {},
   "source": [
    "The following function changes the brihgtness of the image in the \"image_path\" parameter as by the values supplied in the factor and then saves the image to the \"output_path\""
   ]
  },
  {
   "cell_type": "code",
   "execution_count": null,
   "id": "fea61f95-be85-4a06-b00b-fa05f96d6ab4",
   "metadata": {},
   "outputs": [],
   "source": [
    "def adjust_brightness(image_path, factor, output_path=\"\"):\n",
    "    base, ext = os.path.splitext(output_path)\n",
    "\n",
    "    with Image.open(image_path) as img:\n",
    "        enhancer = ImageEnhance.Brightness(img)\n",
    "        img_enhanced = enhancer.enhance(factor)\n",
    "\n",
    "        dir = os.path.dirname(output_path)\n",
    "        if dir and not os.path.exists(dir):\n",
    "            os.makedirs(dir)\n",
    "\n",
    "\n",
    "        output_path = f\"{base}_brightness{ext}\"\n",
    "\n",
    "        img_enhanced.save(output_path)"
   ]
  },
  {
   "cell_type": "markdown",
   "id": "79e63036-551c-4bf7-af70-582b62bdedba",
   "metadata": {},
   "source": [
    "The following function is used to occlude an 8x8 random part of the 64x64 image. \"image_path\" is the path to the image to be modified and \"output_path\" is the path where the occluded image will be saved"
   ]
  },
  {
   "cell_type": "code",
   "execution_count": null,
   "id": "2f9aecba-0845-4504-b01f-619bbc864b56",
   "metadata": {},
   "outputs": [],
   "source": [
    "def occlude_image(image_path, output_path=\"\"):\n",
    "    img = Image.open(image_path)\n",
    "   \n",
    "    # Choose a random position for the top-left corner of the 8x8 square\n",
    "    max_position = 64 - 12\n",
    "    x = random.randint(0, max_position)\n",
    "    y = random.randint(0, max_position)\n",
    "    \n",
    "    draw = ImageDraw.Draw(img)\n",
    "    \n",
    "    # Draw the 8x8 black square\n",
    "    draw.rectangle([x, y, x+12, y+12], fill=\"black\")\n",
    "\n",
    "    base, ext = os.path.splitext(output_path)\n",
    "\n",
    "    dir = os.path.dirname(output_path)\n",
    "    if dir and not os.path.exists(dir):\n",
    "        os.makedirs(dir)\n",
    "\n",
    "    output_path = f\"{base}_occluded{ext}\"\n",
    "\n",
    "    img.save(output_path)"
   ]
  },
  {
   "cell_type": "markdown",
   "id": "a758eead-e873-4824-a630-84f9aaf31566",
   "metadata": {},
   "source": [
    "The \"process_images\" function takes \"input_dir\" as the directory from where it will take all the images from. \"output\" is where all the images will be saved. This function will call one of the aforementioned functions randomly to create a modified dataset. It will also save the original therefore it will create a dataset double the size. It expects the filestructure to be the same as the kaggle dataset"
   ]
  },
  {
   "cell_type": "code",
   "execution_count": null,
   "id": "99227486-5dfb-4952-b100-a9e66db1658f",
   "metadata": {},
   "outputs": [],
   "source": [
    "def process_images(input_dir, output):\n",
    "    for dirname in os.listdir(input_dir):\n",
    "        class_dir = os.path.join(input_dir, dirname)\n",
    "        output_dir = output\n",
    "        output_dir = os.path.join(output_dir, dirname)\n",
    "        for filename in os.listdir(class_dir):\n",
    "            img_path = os.path.join(class_dir, filename)\n",
    "            dir = os.path.join(output_dir, filename)\n",
    "\n",
    "            adjustment_options = [0.5, 0.3, 0.2]\n",
    "            adjustment_factor = random.choice(adjustment_options)\n",
    "\n",
    "            factor  = 1 + random.choice([-1, 1]) * adjustment_factor\n",
    "\n",
    "\n",
    "            d = os.path.dirname(dir)\n",
    "            if d and not os.path.exists(d):\n",
    "                os.makedirs(d)\n",
    "\n",
    "            # save the original\n",
    "            img = Image.open(img_path)\n",
    "            img.save(dir)\n",
    "\n",
    "\n",
    "            # List of the functions with their parameters\n",
    "            functions = [\n",
    "                lambda: occlude_image(image_path=img_path, output_path=dir),\n",
    "                lambda: adjust_brightness(image_path=img_path, output_path=dir, factor=factor)\n",
    "            ]\n",
    "\n",
    "            random.choice(functions)()\n"
   ]
  },
  {
   "cell_type": "code",
   "execution_count": null,
   "id": "d6d93e89-ee6d-4930-8da6-19f93c1af954",
   "metadata": {},
   "outputs": [],
   "source": [
    "\n",
    "# change path to where you set the dataset\n",
    "input_directory = '/home/gras/Downloads/archive/64'\n",
    "output_directory = '/home/gras/Downloads/archive/modifiedDataset'\n",
    "\n",
    "process_images(input_directory, output_directory)"
   ]
  }
 ],
 "metadata": {
  "kernelspec": {
   "display_name": "Python 3 (ipykernel)",
   "language": "python",
   "name": "python3"
  },
  "language_info": {
   "codemirror_mode": {
    "name": "ipython",
    "version": 3
   },
   "file_extension": ".py",
   "mimetype": "text/x-python",
   "name": "python",
   "nbconvert_exporter": "python",
   "pygments_lexer": "ipython3",
   "version": "3.11.7"
  }
 },
 "nbformat": 4,
 "nbformat_minor": 5
}
